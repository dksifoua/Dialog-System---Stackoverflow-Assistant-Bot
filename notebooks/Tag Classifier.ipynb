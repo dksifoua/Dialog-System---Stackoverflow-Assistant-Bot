{
 "cells": [
  {
   "cell_type": "code",
   "execution_count": 1,
   "metadata": {},
   "outputs": [
    {
     "name": "stderr",
     "output_type": "stream",
     "text": [
      "[nltk_data] Downloading package stopwords to /root/nltk_data...\n",
      "[nltk_data]   Package stopwords is already up-to-date!\n"
     ]
    },
    {
     "data": {
      "text/plain": [
       "True"
      ]
     },
     "execution_count": 1,
     "metadata": {},
     "output_type": "execute_result"
    }
   ],
   "source": [
    "import re\n",
    "import pickle\n",
    "import numpy as np\n",
    "import pandas as pd\n",
    "\n",
    "from sklearn.model_selection import train_test_split\n",
    "from sklearn.linear_model import LogisticRegression\n",
    "from sklearn.multiclass import OneVsRestClassifier\n",
    "from sklearn import metrics\n",
    "\n",
    "import nltk\n",
    "from nltk.corpus import stopwords\n",
    "nltk.download('stopwords')"
   ]
  },
  {
   "cell_type": "code",
   "execution_count": 2,
   "metadata": {},
   "outputs": [
    {
     "name": "stdout",
     "output_type": "stream",
     "text": [
      "df_dialogues shape: (218609, 2)\n",
      "df_stackoverflow shape: (2171575, 3)\n",
      "CPU times: user 2.52 s, sys: 396 ms, total: 2.91 s\n",
      "Wall time: 2.91 s\n"
     ]
    }
   ],
   "source": [
    "%%time\n",
    "df_dialogues = pd.read_csv('./data/dialogues.tsv', sep='\\t')\n",
    "df_stackoverflow = pd.read_csv('./data/tagged_posts.tsv', sep='\\t')\n",
    "\n",
    "print(f'df_dialogues shape: {df_dialogues.shape}')\n",
    "print(f'df_stackoverflow shape: {df_stackoverflow.shape}')"
   ]
  },
  {
   "cell_type": "code",
   "execution_count": 3,
   "metadata": {},
   "outputs": [
    {
     "data": {
      "text/html": [
       "<div>\n",
       "<style scoped>\n",
       "    .dataframe tbody tr th:only-of-type {\n",
       "        vertical-align: middle;\n",
       "    }\n",
       "\n",
       "    .dataframe tbody tr th {\n",
       "        vertical-align: top;\n",
       "    }\n",
       "\n",
       "    .dataframe thead th {\n",
       "        text-align: right;\n",
       "    }\n",
       "</style>\n",
       "<table border=\"1\" class=\"dataframe\">\n",
       "  <thead>\n",
       "    <tr style=\"text-align: right;\">\n",
       "      <th></th>\n",
       "      <th>post_id</th>\n",
       "      <th>title</th>\n",
       "      <th>tag</th>\n",
       "    </tr>\n",
       "  </thead>\n",
       "  <tbody>\n",
       "    <tr>\n",
       "      <th>631024</th>\n",
       "      <td>9071076</td>\n",
       "      <td>C++ virtual method overload/override compiler ...</td>\n",
       "      <td>c_cpp</td>\n",
       "    </tr>\n",
       "    <tr>\n",
       "      <th>353311</th>\n",
       "      <td>5298353</td>\n",
       "      <td>Check a condition and also identify the patter...</td>\n",
       "      <td>php</td>\n",
       "    </tr>\n",
       "    <tr>\n",
       "      <th>1547617</th>\n",
       "      <td>23947511</td>\n",
       "      <td>isset($_POST['x']) only works if the submit bu...</td>\n",
       "      <td>php</td>\n",
       "    </tr>\n",
       "    <tr>\n",
       "      <th>70588</th>\n",
       "      <td>1353559</td>\n",
       "      <td>Trying to make this star output using a for lo...</td>\n",
       "      <td>c_cpp</td>\n",
       "    </tr>\n",
       "    <tr>\n",
       "      <th>534998</th>\n",
       "      <td>7753016</td>\n",
       "      <td>Django+Postgres: \"current transaction is abort...</td>\n",
       "      <td>python</td>\n",
       "    </tr>\n",
       "  </tbody>\n",
       "</table>\n",
       "</div>"
      ],
      "text/plain": [
       "          post_id                                              title     tag\n",
       "631024    9071076  C++ virtual method overload/override compiler ...   c_cpp\n",
       "353311    5298353  Check a condition and also identify the patter...     php\n",
       "1547617  23947511  isset($_POST['x']) only works if the submit bu...     php\n",
       "70588     1353559  Trying to make this star output using a for lo...   c_cpp\n",
       "534998    7753016  Django+Postgres: \"current transaction is abort...  python"
      ]
     },
     "execution_count": 3,
     "metadata": {},
     "output_type": "execute_result"
    }
   ],
   "source": [
    "# Sample data\n",
    "seed = 781\n",
    "sample_size = 200000\n",
    "\n",
    "df_stackoverflow = df_stackoverflow.sample(sample_size, random_state=seed)\n",
    "df_stackoverflow.head()"
   ]
  },
  {
   "cell_type": "code",
   "execution_count": 4,
   "metadata": {},
   "outputs": [],
   "source": [
    "def text_prepare(text):\n",
    "    replace_by_space_re = re.compile('[/(){}\\[\\]\\|@,;]')\n",
    "    bad_symbols_re = re.compile('[^0-9a-z #+_]')\n",
    "    stopwords_set = set(stopwords.words('english'))\n",
    "\n",
    "    text = text.lower()\n",
    "    text = replace_by_space_re.sub(' ', text)\n",
    "    text = bad_symbols_re.sub('', text)\n",
    "    text = ' '.join([x for x in text.split() if x and x not in stopwords_set])\n",
    "\n",
    "    return text.strip()"
   ]
  },
  {
   "cell_type": "code",
   "execution_count": 5,
   "metadata": {},
   "outputs": [
    {
     "name": "stdout",
     "output_type": "stream",
     "text": [
      "Train size=180,000, test size=20,000\n",
      "CPU times: user 27.3 s, sys: 2.8 s, total: 30.1 s\n",
      "Wall time: 30.1 s\n"
     ]
    }
   ],
   "source": [
    "%%time\n",
    "# Text Preprocessing\n",
    "df_stackoverflow.title = df_stackoverflow.title.apply(text_prepare)\n",
    "\n",
    "# Train test split\n",
    "X, y = df_stackoverflow.title.values, df_stackoverflow.tag.values\n",
    "X_train, X_test, y_train, y_test = train_test_split(X, y, test_size=0.1, random_state=seed)\n",
    "print(f'Train size={len(X_train):,}, test size={len(X_test):,}')\n",
    "\n",
    "# Load tf-idf and transform text\n",
    "vectorizer = pickle.load(open('../api/src/dumps/tfidf_vectorizer.pkl', 'rb'))\n",
    "X_train_tfidf, X_test_tfidf = vectorizer.transform(X_train), vectorizer.transform(X_test)"
   ]
  },
  {
   "cell_type": "code",
   "execution_count": 6,
   "metadata": {},
   "outputs": [
    {
     "name": "stdout",
     "output_type": "stream",
     "text": [
      "acc=80.270% - f1=80.270%\n",
      "CPU times: user 38.2 s, sys: 1min 30s, total: 2min 8s\n",
      "Wall time: 18.7 s\n"
     ]
    }
   ],
   "source": [
    "%%time\n",
    "# Train model\n",
    "tag_classifier = OneVsRestClassifier(\n",
    "    LogisticRegression(\n",
    "        penalty='l2', C=5, \n",
    "        random_state=seed, \n",
    "        solver='liblinear'\n",
    "    )\n",
    ")\n",
    "tag_classifier.fit(X_train_tfidf, y_train)\n",
    "\n",
    "# Evaluate\n",
    "y_pred = tag_classifier.predict(X_test_tfidf)\n",
    "acc = metrics.accuracy_score(y_test, y_pred)\n",
    "f1 = metrics.f1_score(y_test, y_pred, average='micro')\n",
    "print(f'acc={acc*100:.3f}% - f1={f1*100:.3f}%')\n",
    "\n",
    "# Save model\n",
    "pickle.dump(tag_classifier, open('../api/src/dumps/tag_classifier.pkl', 'wb'))"
   ]
  }
 ],
 "metadata": {
  "kernelspec": {
   "display_name": "Python 3",
   "language": "python",
   "name": "python3"
  },
  "language_info": {
   "codemirror_mode": {
    "name": "ipython",
    "version": 3
   },
   "file_extension": ".py",
   "mimetype": "text/x-python",
   "name": "python",
   "nbconvert_exporter": "python",
   "pygments_lexer": "ipython3",
   "version": "3.6.8"
  }
 },
 "nbformat": 4,
 "nbformat_minor": 4
}
